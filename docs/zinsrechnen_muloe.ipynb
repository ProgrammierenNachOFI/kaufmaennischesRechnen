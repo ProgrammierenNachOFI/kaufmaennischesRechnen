{
  "cells": [
    {
      "cell_type": "markdown",
      "metadata": {
        "colab_type": "text",
        "id": "view-in-github"
      },
      "source": [
        "<a href=\"https://colab.research.google.com/github/VorlagenMk/jupyter-notebooks/blob/main/docs/zinsrechnen_sus.ipynb\" target=\"_parent\"><img src=\"https://colab.research.google.com/assets/colab-badge.svg\" alt=\"Open In Colab\"/></a>"
      ]
    },
    {
      "cell_type": "markdown",
      "metadata": {
        "id": "pcaPePXnST36"
      },
      "source": [
        "# Zinsrechnen"
      ]
    },
    {
      "cell_type": "markdown",
      "metadata": {
        "id": "K9GAruCkx4WY"
      },
      "source": [
        "In diesem Notebook sollen die für die Berechnung der Zinstage erforderlichen Datenstrukturen und Methoden programmiert werden."
      ]
    },
    {
      "cell_type": "markdown",
      "metadata": {
        "id": "WrRkt2bFRiq0"
      },
      "source": [
        "## Berechnung der Zeitspanne in Tagen"
      ]
    },
    {
      "cell_type": "markdown",
      "metadata": {
        "id": "x643EjKrx4WZ"
      },
      "source": [
        "Python stellt die\n",
        "[`datetime`](https://docs.python.org/3/library/datetime.html)\n",
        "Library für Berechnungen mit Kalenderdaten zur Verfügung.\n",
        "Da in der Zinsberechnung nach Deutscher Usanz alle Monate 30 Tage\n",
        "aufweisen, kann allerdings nicht mit der `datetime` Library gearbeitet\n",
        "werden.\n",
        "\n",
        "Um dieses Problem zu lösen, können die Möglichkeiten der\n",
        "[objektorientierten Programmierung\n",
        "(OOP)](https://de.wikipedia.org/wiki/Objektorientierte_Programmierung)\n",
        "von Python ins Spiel gebracht werden. Was bedeutet OOP? In OOP werden\n",
        "Daten und Methoden in einer Einheit, einem *Objekt*, gebündelt. Das\n",
        "heisst, dem User wird im vorliegenden Fall die Möglichkeit geboten, ein\n",
        "Datum, bestehend aus Tag, Monat und Jahr, abzuspeichern und die\n",
        "Differenz zwischen zwei so abgespeicherten Daten in Tagen zu berechnen.\n",
        "\n",
        "Um dies zu erreichen, wird in Python eine Klasse (`class`) geschrieben.\n",
        "\n",
        "Die Eigenschaften von Klassen können in einem\n",
        "[UML Klassendiagramm](https://de.wikipedia.org/wiki/Klassendiagramm)\n",
        "dargestellt werden.\n",
        "\n",
        "Allgemein gelten für Klassen die Konventionen gemäss folgender\n",
        "Darstellung:"
      ]
    },
    {
      "cell_type": "markdown",
      "metadata": {
        "id": "RWsFhU-7ERB9"
      },
      "source": [
        "<img src=\"data:image/svg+xml;base64,\n",
        "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\" alt=\"Allgemeines UML-Klassendiagramm\" />"
      ]
    },
    {
      "cell_type": "markdown",
      "metadata": {
        "id": "SWjMOrylERB-"
      },
      "source": [
        "\n",
        "[Falls das Bild nicht angezeigt wird, kann hier das Original heruntergeladen werden.](images/Klasse.svg)"
      ]
    },
    {
      "cell_type": "markdown",
      "metadata": {
        "id": "K7t-wul1x4qJ"
      },
      "source": [
        "### Beispiel"
      ]
    },
    {
      "cell_type": "markdown",
      "metadata": {
        "id": "5TRTPsIPx4Wa"
      },
      "source": [
        "Für eine einfache Klasse `Printer`, welche einen Text abspeichern kann\n",
        "und über eine Methode verfügt, diesen Text am Bildschirm anzuzeigen,\n",
        "sieht das Klassendiagramm folgendermassen aus:"
      ]
    },
    {
      "cell_type": "markdown",
      "metadata": {
        "id": "Ggd4SVwCERCA"
      },
      "source": [
        "<img src=\"data:image/svg+xml;base64,\n",
        "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\" alt=\"UML Klassendiagramm Printer\" />"
      ]
    },
    {
      "cell_type": "markdown",
      "metadata": {
        "id": "J7pvDk3MERCB"
      },
      "source": [
        "[Falls das Bild nicht angezeigt wird, kann hier das Original heruntergeladen werden.](images/Printer.svg)\n",
        "\n",
        "Die daraus abgeleitete Definition der Klasse in Python findet sich in der folgenden Zelle."
      ]
    },
    {
      "cell_type": "code",
      "execution_count": null,
      "metadata": {
        "id": "1iHY73fUviYK"
      },
      "outputs": [],
      "source": [
        "class Printer:\n",
        "    def __init__(self, message : str):\n",
        "        self.message = message\n",
        "\n",
        "    def display_message(self):\n",
        "        print(self.message)\n",
        "\n"
      ]
    },
    {
      "cell_type": "markdown",
      "metadata": {
        "id": "SLPoriLRERCD"
      },
      "source": [
        "Wie oben angedeutet, werden Klassen mit dem Stichwort `class`, gefolgt\n",
        "vom Namen der Klasse, definiert. Üblicherweise werden Namen von Klassen\n",
        "in sog. Camel Cases geschrieben (`MeineNeueKlasse`)."
      ]
    },
    {
      "cell_type": "markdown",
      "metadata": {
        "id": "3w5j3GM2x4Wc"
      },
      "source": [
        "Die Methode `__init__(self, ...)` ist eine Methode, welche bei der\n",
        "Initialisierung einer Instanz der Klasse `Printer` automatisch\n",
        "aufgerufen wird (aus sprachlichen Gründen wird im weiteren Text soweit\n",
        "möglich statt\n",
        "von einer Instanz der Klasse `Printer` der Einfachheit halber lediglich\n",
        "von einem *Objekt* gesprochen). Im Beispiel weist sie den als Parameter übergebenen\n",
        "Text dem Attribut `message` des Objekts zu. Die konkrete Instanz des\n",
        "Objekts `Printer` wird durch die\n",
        "Variabel `self` repräsentiert. Grundsätzlich könnte ein beliebiger Name\n",
        "anstelle von `self`\n",
        "eingesetzt werden, es hat sich aber als Konvention durchgesetzt, diese\n",
        "spezielle Variable `self` zu nennen. Wichtig ist, dass die Variable,\n",
        "welche das Objekt repräsentiert, an erster Stelle steht."
      ]
    },
    {
      "cell_type": "markdown",
      "metadata": {
        "id": "SZgRCx6Hx4Wc"
      },
      "source": [
        "\n",
        "Innerhalb der Methode `__init__` werden alle für die Anlage des Objekts\n",
        "wichtigen Vorgänge programmiert. So könnte zum Beispiel, wenn dies\n",
        "gewünscht wird, hier der Text des\n",
        "Parameters auch in Grossbuchstaben konvertiert werden.  \n",
        "Die Methode\n",
        "`__init__` sähe in diesem Fall folgendermassen aus:\n",
        "\n",
        "```{Python}\n",
        "def __init__(self, message)\n",
        "    self.message = message.upper()\n",
        "```"
      ]
    },
    {
      "cell_type": "markdown",
      "metadata": {
        "id": "dudRPLlgx4Wc"
      },
      "source": [
        "Die Mehtode `display_message()` gibt den in Objekt abgelegten Text am\n",
        "Bildschirm aus."
      ]
    },
    {
      "cell_type": "markdown",
      "metadata": {
        "id": "FkiSL-T4wFZp"
      },
      "source": [
        "Um zu zeigen, dass die Klasse das macht, was gefordert wurde, wird in\n",
        "der folgenden Zelle eine Instanz (ein neues Objekt) der Klasse `Printer`\n",
        "mit dem Namen `test` angelegt und die Methode `display_message()`\n",
        "aufgerufen."
      ]
    },
    {
      "cell_type": "code",
      "execution_count": null,
      "metadata": {
        "id": "g7RZW0P_waw3",
        "outputId": "dc73a8b7-3b50-446a-a8fc-e9bfebc4e893"
      },
      "outputs": [
        {
          "name": "stdout",
          "output_type": "stream",
          "text": [
            "Hello World!\n"
          ]
        }
      ],
      "source": [
        "test = Printer(\"Hello World!\")\n",
        "test.display_message()"
      ]
    },
    {
      "cell_type": "markdown",
      "metadata": {
        "id": "ReXUEDE5x4Wd"
      },
      "source": [
        "### Die Klasse \"Datum\""
      ]
    },
    {
      "cell_type": "markdown",
      "metadata": {
        "id": "dYZkp4bevDZd"
      },
      "source": [
        "Das entsprechende Klassendiagramm für die Klasse `Datum` kann\n",
        "folgendermassen aussehen:"
      ]
    },
    {
      "cell_type": "markdown",
      "metadata": {
        "id": "ghqkHTAqERCH"
      },
      "source": [
        "<img src=\"data:image/svg+xml;base64,\n",
        "PD94bWwgdmVyc2lvbj0iMS4wIiBlbmNvZGluZz0iVVRGLTgiIHN0YW5kYWxvbmU9Im5vIj8+CjxzdmcKICAgd2lkdGg9IjE3Ljk4Mzk5OWNtIgogICBoZWlnaHQ9IjcuMzIxNDg1Y20iCiAgIHZpZXdCb3g9IjExMCAxMjMgMzQ1LjkyNzUyIDE0MC4xNTQxNCIKICAgdmVyc2lvbj0iMS4xIgogICBpZD0ic3ZnOSIKICAgc29kaXBvZGk6ZG9jbmFtZT0iRGF0dW0uc3ZnIgogICBpbmtzY2FwZTp2ZXJzaW9uPSIxLjMgKDBlMTUwZWQ2YzQsIDIwMjMtMDctMjEpIgogICB4bWxuczppbmtzY2FwZT0iaHR0cDovL3d3dy5pbmtzY2FwZS5vcmcvbmFtZXNwYWNlcy9pbmtzY2FwZSIKICAgeG1sbnM6c29kaXBvZGk9Imh0dHA6Ly9zb2RpcG9kaS5zb3VyY2Vmb3JnZS5uZXQvRFREL3NvZGlwb2RpLTAuZHRkIgogICB4bWxucz0iaHR0cDovL3d3dy53My5vcmcvMjAwMC9zdmciCiAgIHhtbG5zOnN2Zz0iaHR0cDovL3d3dy53My5vcmcvMjAwMC9zdmciPgogIDxkZWZzCiAgICAgaWQ9ImRlZnM5IiAvPgogIDxzb2RpcG9kaTpuYW1lZHZpZXcKICAgICBpZD0ibmFtZWR2aWV3OSIKICAgICBwYWdlY29sb3I9IiNmZmZmZmYiCiAgICAgYm9yZGVyY29sb3I9IiMwMDAwMDAiCiAgICAgYm9yZGVyb3BhY2l0eT0iMC4yNSIKICAgICBpbmtzY2FwZTpzaG93cGFnZXNoYWRvdz0iMiIKICAgICBpbmtzY2FwZTpwYWdlb3BhY2l0eT0iMC4wIgogICAgIGlua3NjYXBlOnBhZ2VjaGVja2VyYm9hcmQ9IjAiCiAgICAgaW5rc2NhcGU6ZGVza2NvbG9yPSIjZDFkMWQxIgogICAgIGlua3NjYXBlOmRvY3VtZW50LXVuaXRzPSJjbSIKICAgICBpbmtzY2FwZTp6b29tPSIwLjk0NjI3NDUxIgogICAgIGlua3NjYXBlOmN4PSIzMjAuMjAzMDciCiAgICAgaW5rc2NhcGU6Y3k9IjEyOS45ODM0MiIKICAgICBpbmtzY2FwZTp3aW5kb3ctd2lkdGg9IjEyODAiCiAgICAgaW5rc2NhcGU6d2luZG93LWhlaWdodD0iNzc4IgogICAgIGlua3NjYXBlOndpbmRvdy14PSIxOTE0IgogICAgIGlua3NjYXBlOndpbmRvdy15PSItNiIKICAgICBpbmtzY2FwZTp3aW5kb3ctbWF4aW1pemVkPSIxIgogICAgIGlua3NjYXBlOmN1cnJlbnQtbGF5ZXI9InN2ZzkiIC8+CiAgPGcKICAgICBpZD0iZzkiCiAgICAgdHJhbnNmb3JtPSJ0cmFuc2xhdGUoMTEuMzMyMjM2LDMuNDc5MTA2KSI+CiAgICA8cmVjdAogICAgICAgc3R5bGU9ImZpbGw6I2ZmZmZmZiIKICAgICAgIHg9IjExMSIKICAgICAgIHk9IjEyNCIKICAgICAgIHdpZHRoPSIzMjUuNzAwMDEiCiAgICAgICBoZWlnaHQ9IjI4IgogICAgICAgaWQ9InJlY3QxIiAvPgogICAgPHJlY3QKICAgICAgIHN0eWxlPSJmaWxsOm5vbmU7ZmlsbC1vcGFjaXR5OjA7c3Ryb2tlOiMwMDAwMDA7c3Ryb2tlLXdpZHRoOjEiCiAgICAgICB4PSIxMTEiCiAgICAgICB5PSIxMjQiCiAgICAgICB3aWR0aD0iMzI1LjcwMDAxIgogICAgICAgaGVpZ2h0PSIyOCIKICAgICAgIGlkPSJyZWN0MiIgLz4KICAgIDx0ZXh0CiAgICAgICBmb250LXNpemU9IjE2cHgiCiAgICAgICBzdHlsZT0iZm9udC1zdHlsZTpub3JtYWw7Zm9udC13ZWlnaHQ6NzAwO2ZvbnQtZmFtaWx5OnNhbnMtc2VyaWY7dGV4dC1hbmNob3I6bWlkZGxlO2ZpbGw6IzAwMDAwMCIKICAgICAgIHg9IjI3My44NTAwMSIKICAgICAgIHk9IjE0MyIKICAgICAgIGlkPSJ0ZXh0MiI+RGF0dW08L3RleHQ+CiAgICA8cmVjdAogICAgICAgc3R5bGU9ImZpbGw6I2ZmZmZmZiIKICAgICAgIHg9IjExMSIKICAgICAgIHk9IjE1MiIKICAgICAgIHdpZHRoPSIzMjUuNzAwMDEiCiAgICAgICBoZWlnaHQ9IjUyIgogICAgICAgaWQ9InJlY3QzIiAvPgogICAgPHJlY3QKICAgICAgIHN0eWxlPSJmaWxsOm5vbmU7ZmlsbC1vcGFjaXR5OjA7c3Ryb2tlOiMwMDAwMDA7c3Ryb2tlLXdpZHRoOjEiCiAgICAgICB4PSIxMTEiCiAgICAgICB5PSIxNTIiCiAgICAgICB3aWR0aD0iMzI1LjcwMDAxIgogICAgICAgaGVpZ2h0PSI1MiIKICAgICAgIGlkPSJyZWN0NCIgLz4KICAgIDx0ZXh0CiAgICAgICBmb250LXNpemU9IjEyLjhweCIKICAgICAgIHN0eWxlPSJmb250LXN0eWxlOm5vcm1hbDtmb250LXdlaWdodDpub3JtYWw7Zm9udC1mYW1pbHk6bW9ub3NwYWNlO3RleHQtYW5jaG9yOnN0YXJ0O2ZpbGw6IzAwMDAwMCIKICAgICAgIHg9IjExMy41IgogICAgICAgeT0iMTY2IgogICAgICAgaWQ9InRleHQ0Ij4rdGFnOiBpbnQ8L3RleHQ+CiAgICA8dGV4dAogICAgICAgZm9udC1zaXplPSIxMi44cHgiCiAgICAgICBzdHlsZT0iZm9udC1zdHlsZTpub3JtYWw7Zm9udC13ZWlnaHQ6bm9ybWFsO2ZvbnQtZmFtaWx5Om1vbm9zcGFjZTt0ZXh0LWFuY2hvcjpzdGFydDtmaWxsOiMwMDAwMDAiCiAgICAgICB4PSIxMTMuNSIKICAgICAgIHk9IjE4MiIKICAgICAgIGlkPSJ0ZXh0NSI+K21vbmF0OiBpbnQ8L3RleHQ+CiAgICA8dGV4dAogICAgICAgZm9udC1zaXplPSIxMi44cHgiCiAgICAgICBzdHlsZT0iZm9udC1zdHlsZTpub3JtYWw7Zm9udC13ZWlnaHQ6bm9ybWFsO2ZvbnQtZmFtaWx5Om1vbm9zcGFjZTt0ZXh0LWFuY2hvcjpzdGFydDtmaWxsOiMwMDAwMDAiCiAgICAgICB4PSIxMTMuNSIKICAgICAgIHk9IjE5OCIKICAgICAgIGlkPSJ0ZXh0NiI+K2phaHI6IGludDwvdGV4dD4KICAgIDxyZWN0CiAgICAgICBzdHlsZT0iZmlsbDojZmZmZmZmIgogICAgICAgeD0iMTExIgogICAgICAgeT0iMjA0IgogICAgICAgd2lkdGg9IjMyNS43MDAwMSIKICAgICAgIGhlaWdodD0iNTIiCiAgICAgICBpZD0icmVjdDYiIC8+CiAgICA8cmVjdAogICAgICAgc3R5bGU9ImZpbGw6bm9uZTtmaWxsLW9wYWNpdHk6MDtzdHJva2U6IzAwMDAwMDtzdHJva2Utd2lkdGg6MSIKICAgICAgIHg9IjExMSIKICAgICAgIHk9IjIwNCIKICAgICAgIHdpZHRoPSIzMjUuNzAwMDEiCiAgICAgICBoZWlnaHQ9IjUyIgogICAgICAgaWQ9InJlY3Q3IiAvPgogICAgPHRleHQKICAgICAgIGZvbnQtc2l6ZT0iMTIuOHB4IgogICAgICAgc3R5bGU9ImZvbnQtc3R5bGU6bm9ybWFsO2ZvbnQtd2VpZ2h0Om5vcm1hbDtmb250LWZhbWlseTptb25vc3BhY2U7dGV4dC1hbmNob3I6c3RhcnQ7ZmlsbDojMDAwMDAwIgogICAgICAgeD0iMTEzLjUiCiAgICAgICB5PSIyMTgiCiAgICAgICBpZD0idGV4dDciPithbnphaGxfdGFnZShzZWxmLGFuZGVyZXJfdGFnOkRhdHVtKTogaW50PC90ZXh0PgogICAgPHRleHQKICAgICAgIGZvbnQtc2l6ZT0iMTIuOHB4IgogICAgICAgc3R5bGU9ImZvbnQtc3R5bGU6bm9ybWFsO2ZvbnQtd2VpZ2h0Om5vcm1hbDtmb250LWZhbWlseTptb25vc3BhY2U7dGV4dC1hbmNob3I6c3RhcnQ7ZmlsbDojMDAwMDAwIgogICAgICAgeD0iMTEzLjUiCiAgICAgICB5PSIyMzQiCiAgICAgICBpZD0idGV4dDgiPitkYXR1bV9pbl90YWdlbihkYXR1bTpEYXR1bSk8L3RleHQ+CiAgICA8dGV4dAogICAgICAgZm9udC1zaXplPSIxMi44cHgiCiAgICAgICBzdHlsZT0iZm9udC1zdHlsZTpub3JtYWw7Zm9udC13ZWlnaHQ6bm9ybWFsO2ZvbnQtZmFtaWx5Om1vbm9zcGFjZTt0ZXh0LWFuY2hvcjpzdGFydDtmaWxsOiMwMDAwMDAiCiAgICAgICB4PSIxMTMuNSIKICAgICAgIHk9IjI1MCIKICAgICAgIGlkPSJ0ZXh0OSI+LXRhZ2Vfbm9ybWFsaXNpZXJlbihzZWxmKTogTm9uZTwvdGV4dD4KICA8L2c+Cjwvc3ZnPgo=\" alt=\"UML-Klassendiagramm Dautm\" />"
      ]
    },
    {
      "cell_type": "markdown",
      "metadata": {
        "id": "oKvcV3yhERCH"
      },
      "source": [
        "[Falls das Bild nicht angezeigt wird, kann hier das Original heruntergeladen werden.](images/Datum.svg)"
      ]
    },
    {
      "cell_type": "markdown",
      "metadata": {
        "id": "s5--tGAgERCI"
      },
      "source": [
        "Als nächstes geht es nun darum, die im Klassendiagramm gemachten\n",
        "Vorgaben in einer Python-Klasse (unter Berücksichtigung der Deutschen\n",
        "Usanz) umzusetzen."
      ]
    },
    {
      "cell_type": "code",
      "execution_count": null,
      "metadata": {
        "id": "MQMdz29DU1IB"
      },
      "outputs": [],
      "source": [
        "class Datum:\n",
        "    def __init__(self, tag: int, monat: int, jahr: int):\n",
        "        # TODO: Zuweisung der Parameter an die Instanzvariablen\n",
        "        pass\n",
        "\n",
        "    def _tage_normalisieren(self):\n",
        "        # TODO: Kürzen der 31. Tage auf 30. Tage\n",
        "        pass\n",
        "\n",
        "    def anzahl_tage(self, anderes_datum):\n",
        "        # TODO: Berechnung der Tage zwischen zwei Daten\n",
        "        pass\n",
        "\n",
        "    def datum_in_tagen(self) -> int:\n",
        "        # TODO: Berechnung der Tage seit dem 1.1.0000\n",
        "        pass\n"
      ]
    },
    {
      "cell_type": "markdown",
      "metadata": {
        "id": "4K0SR8wdYB8D"
      },
      "source": [
        "## Berechnung des Zinses"
      ]
    },
    {
      "cell_type": "markdown",
      "metadata": {
        "id": "b0cx56zJx4We"
      },
      "source": [
        "Schreiben Sie eine Funktion, die unter Verwendung der Klasse `Datum` den\n",
        "Zins für ein gegebens Kapital zwischen zwei Daten berechnet."
      ]
    },
    {
      "cell_type": "code",
      "execution_count": null,
      "metadata": {
        "id": "IGsE2JzHYzZL"
      },
      "outputs": [],
      "source": [
        "stichtag = Datum(16, 11, 23)\n",
        "referenztag = Datum(1, 10, 23)\n",
        "\n",
        "def zinsberechnung(starttag: Datum, endtag: Datum,\n",
        "                   zins: float, kapital: float) -> float:\n",
        "\n",
        "    # TODO: Berechnung des Marchzinses\n",
        "    pass\n",
        "\n",
        "zinsberechnung(stichtag, referenztag, 10_000, 3.5)"
      ]
    }
  ],
  "metadata": {
    "colab": {
      "include_colab_link": true,
      "provenance": []
    },
    "kernelspec": {
      "display_name": "Python 3 (ipykernel)",
      "language": "python",
      "name": "python3"
    },
    "language_info": {
      "codemirror_mode": {
        "name": "ipython",
        "version": 3
      },
      "file_extension": ".py",
      "mimetype": "text/x-python",
      "name": "python",
      "nbconvert_exporter": "python",
      "pygments_lexer": "ipython3",
      "version": "3.11.6"
    }
  },
  "nbformat": 4,
  "nbformat_minor": 0
}
